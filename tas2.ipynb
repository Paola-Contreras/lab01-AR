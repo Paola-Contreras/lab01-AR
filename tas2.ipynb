{
 "cells": [
  {
   "cell_type": "code",
   "execution_count": 2,
   "metadata": {},
   "outputs": [],
   "source": [
    "import random \n",
    "import numpy as np\n",
    "import matplotlib.pyplot as plt\n"
   ]
  },
  {
   "cell_type": "code",
   "execution_count": null,
   "metadata": {},
   "outputs": [],
   "source": [
    "#Crea una clase Bandit para representar el entorno. Esta clase debería inicializar 10 brazos, cada uno con\n",
    "#una probabilidad de recompensa elegida al azar entre 0 y 1\n",
    "\n",
    "class Bandit:\n",
    "    def __init__(self, arms=10):\n",
    "        self.prob_recompenza = np.random.rand(arms)\n",
    "\n",
    "    def pull(self, arms):\n",
    "        if np.random.rand() < self.probabilities[arms]:\n",
    "            return 1 \n",
    "        else:\n",
    "            return 0 "
   ]
  },
  {
   "cell_type": "code",
   "execution_count": 19,
   "metadata": {},
   "outputs": [
    {
     "name": "stdout",
     "output_type": "stream",
     "text": [
      "1\n"
     ]
    }
   ],
   "source": [
    "class Agente:\n",
    "    def __init__(self,arms=10, epsilon=0.01):\n",
    "        self.epsion = epsilon\n",
    "        self.recompenza = np.zeros(arms) # matriz de recompenzas \n",
    "        self.conteoArms = np.zeros(arms) # matriz para el conteo de veces que se ha extraido cada barzo\n",
    "\n",
    "    def selectArm(self):\n",
    "        if np.random.rand() < self.epsilon: # explore (acción greedy)\n",
    "            accion = np.random.randint(self.n_arms)\n",
    "            return accion\n",
    "        else: # exploit ( acción ε-greedy)\n",
    "            accion = np.argmax_func(self.recompenza)\n",
    "            return accion\n",
    "\n",
    "    def updateEstimate(self,arms, recompensa):\n",
    "\n",
    "        pass"
   ]
  }
 ],
 "metadata": {
  "kernelspec": {
   "display_name": "Python 3",
   "language": "python",
   "name": "python3"
  },
  "language_info": {
   "codemirror_mode": {
    "name": "ipython",
    "version": 3
   },
   "file_extension": ".py",
   "mimetype": "text/x-python",
   "name": "python",
   "nbconvert_exporter": "python",
   "pygments_lexer": "ipython3",
   "version": "3.11.2"
  }
 },
 "nbformat": 4,
 "nbformat_minor": 2
}
